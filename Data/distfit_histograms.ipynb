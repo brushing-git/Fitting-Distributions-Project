{
  "nbformat": 4,
  "nbformat_minor": 0,
  "metadata": {
    "colab": {
      "provenance": [],
      "authorship_tag": "ABX9TyO1hRVWRvFDmGuZkkvgdedd",
      "include_colab_link": true
    },
    "kernelspec": {
      "name": "python3",
      "display_name": "Python 3"
    },
    "language_info": {
      "name": "python"
    }
  },
  "cells": [
    {
      "cell_type": "markdown",
      "metadata": {
        "id": "view-in-github",
        "colab_type": "text"
      },
      "source": [
        "<a href=\"https://colab.research.google.com/github/brushing-git/Fitting-Distributions-Project/blob/master/Data/distfit_histograms.ipynb\" target=\"_parent\"><img src=\"https://colab.research.google.com/assets/colab-badge.svg\" alt=\"Open In Colab\"/></a>"
      ]
    },
    {
      "cell_type": "code",
      "execution_count": 22,
      "metadata": {
        "id": "Ok0sFKd0frXr"
      },
      "outputs": [],
      "source": [
        "import matplotlib.pyplot as plt\n",
        "import numpy as np"
      ]
    },
    {
      "cell_type": "code",
      "source": [
        "def import_data_func(filename):\n",
        "\n",
        "    with open(filename, 'r') as f:\n",
        "        lines = f.readlines()\n",
        "\n",
        "    lines = [x.strip() for x in lines]\n",
        "    sample = [float(x) for x in lines]\n",
        "    return np.asarray(sample)"
      ],
      "metadata": {
        "id": "ozOaM9hzfuj8"
      },
      "execution_count": 23,
      "outputs": []
    },
    {
      "cell_type": "code",
      "source": [
        "x = import_data_func(\"d1.txt\")\n",
        "y = import_data_func(\"d2.txt\")\n",
        "z = import_data_func(\"d3.txt\")\n",
        "\n",
        "# Create Histogram\n",
        "fig, ax = plt.subplots(figsize=(8,5))\n",
        "ax.hist(x, bins=[i for i in np.arange(-9,11,0.5)])\n",
        "\n",
        "plt.show()"
      ],
      "metadata": {
        "colab": {
          "base_uri": "https://localhost:8080/",
          "height": 320
        },
        "id": "mCjZOAMAgQBu",
        "outputId": "36349b21-3a44-426e-9714-b4ff9d590fd4"
      },
      "execution_count": 24,
      "outputs": [
        {
          "output_type": "display_data",
          "data": {
            "text/plain": [
              "<Figure size 576x360 with 1 Axes>"
            ],
            "image/png": "[encoded data removed]"
          },
          "metadata": {
            "needs_background": "light"
          }
        }
      ]
    },
    {
      "cell_type": "code",
      "source": [
        "# Create Histogram\n",
        "fig, ax = plt.subplots(figsize=(8,5))\n",
        "ax.hist(y, bins=[i for i in np.arange(-9,11,0.5)])\n",
        "\n",
        "plt.show()"
      ],
      "metadata": {
        "colab": {
          "base_uri": "https://localhost:8080/",
          "height": 321
        },
        "id": "yVrGJuIkg5Rp",
        "outputId": "a08d841f-ca67-42e6-dbc0-3e05ea8e5f56"
      },
      "execution_count": 25,
      "outputs": [
        {
          "output_type": "display_data",
          "data": {
            "text/plain": [
              "<Figure size 576x360 with 1 Axes>"
            ],
            "image/png": "[encoded data removed]"
          },
          "metadata": {
            "needs_background": "light"
          }
        }
      ]
    },
    {
      "cell_type": "code",
      "source": [
        "# Create Histogram\n",
        "fig, ax = plt.subplots(figsize=(8,5))\n",
        "ax.hist(z, bins=[i for i in np.arange(-9,11,0.5)])\n",
        "\n",
        "plt.show()"
      ],
      "metadata": {
        "colab": {
          "base_uri": "https://localhost:8080/",
          "height": 320
        },
        "id": "kc1ta5XlhCji",
        "outputId": "54c5bf51-6360-4351-9113-dc1ba45b7b73"
      },
      "execution_count": 26,
      "outputs": [
        {
          "output_type": "display_data",
          "data": {
            "text/plain": [
              "<Figure size 576x360 with 1 Axes>"
            ],
            "image/png": "[encoded data removed]"
          },
          "metadata": {
            "needs_background": "light"
          }
        }
      ]
    }
  ]
}